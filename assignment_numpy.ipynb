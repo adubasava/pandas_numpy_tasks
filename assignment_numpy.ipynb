{
 "cells": [
  {
   "cell_type": "markdown",
   "id": "d3df79dd",
   "metadata": {},
   "source": [
    "## Упражнения по библиотеке Numpy"
   ]
  },
  {
   "cell_type": "code",
   "execution_count": 2,
   "id": "76b9c43b",
   "metadata": {},
   "outputs": [],
   "source": [
    "import numpy as np"
   ]
  },
  {
   "cell_type": "markdown",
   "id": "03727b7c",
   "metadata": {},
   "source": [
    "**1.** Дан случайный массив, поменять знак у элементов, значения которых между 3 и 8"
   ]
  },
  {
   "cell_type": "code",
   "execution_count": 4,
   "id": "b89a7523",
   "metadata": {},
   "outputs": [
    {
     "name": "stdout",
     "output_type": "stream",
     "text": [
      "[2 5 1 4 7 3 6 8 3 7]\n",
      "[ 2 -5  1 -4 -7  3 -6  8  3 -7]\n"
     ]
    }
   ],
   "source": [
    "# \n",
    "rng = np.random.default_rng()\n",
    "arr = rng.integers(1, 10, size=10)\n",
    "print(arr)\n",
    "arr[(arr > 3) & (arr < 8)] *= -1\n",
    "print(arr)"
   ]
  },
  {
   "cell_type": "markdown",
   "id": "5fa4abda",
   "metadata": {},
   "source": [
    "**2.** Заменить максимальный элемент случайного массива на 0"
   ]
  },
  {
   "cell_type": "code",
   "execution_count": 5,
   "id": "f2788a6e",
   "metadata": {},
   "outputs": [
    {
     "name": "stdout",
     "output_type": "stream",
     "text": [
      "[ 2 -5  1 -4 -7  3 -6  0  3 -7]\n"
     ]
    }
   ],
   "source": [
    "# \n",
    "arr[arr.argmax()] = 0\n",
    "print(arr)"
   ]
  },
  {
   "cell_type": "markdown",
   "id": "3cac656b",
   "metadata": {},
   "source": [
    "**3.** Построить прямое произведение массивов (все комбинации с каждым элементом). На вход подается двумерный массив"
   ]
  },
  {
   "cell_type": "code",
   "execution_count": 6,
   "id": "3396b764",
   "metadata": {},
   "outputs": [
    {
     "name": "stdout",
     "output_type": "stream",
     "text": [
      "[array([1, 2, 4]), array([6, 7])]\n",
      "[[1 6]\n",
      " [1 7]\n",
      " [2 6]\n",
      " [2 7]\n",
      " [4 6]\n",
      " [4 7]]\n"
     ]
    }
   ],
   "source": [
    "# \n",
    "def cartesian(arrays):\n",
    "    arrays = [np.asarray(a) for a in arrays]\n",
    "    print(arrays)\n",
    "    shape = map(len, arrays)\n",
    "\n",
    "    ix = np.indices(shape)\n",
    "    ix = ix.reshape(len(arrays), -1).T\n",
    "\n",
    "    for n, arr in enumerate(arrays):\n",
    "        ix[:, n] = arrays[n][ix[:, n]]\n",
    "\n",
    "    return ix\n",
    "\n",
    "print(cartesian([[1, 2, 4], [6, 7]]))"
   ]
  },
  {
   "cell_type": "markdown",
   "id": "674c9354",
   "metadata": {},
   "source": [
    "**4.** Даны 2 массива A (8x3) и B (2x2). Найти строки в A, которые содержат элементы из каждой строки в B, независимо от порядка элементов в B"
   ]
  },
  {
   "cell_type": "code",
   "execution_count": 8,
   "id": "cb664782",
   "metadata": {},
   "outputs": [
    {
     "name": "stdout",
     "output_type": "stream",
     "text": [
      "[0 1 3 5 6 7]\n"
     ]
    }
   ],
   "source": [
    "# \n",
    "rng = np.random.default_rng()\n",
    "A = rng.integers(0,5,(8,3))\n",
    "B = rng.integers(0,5,(2,2))\n",
    "\n",
    "C = (A[..., np.newaxis, np.newaxis] == B)\n",
    "rows = (C.sum(axis=(1,2,3)) >= B.shape[1]).nonzero()[0]\n",
    "print(rows)"
   ]
  },
  {
   "cell_type": "markdown",
   "id": "fa46533b",
   "metadata": {},
   "source": [
    "**5.** Дана 10x3 матрица, найти строки из неравных значений (например строка [2,2,3] остается, строка [3,3,3] удаляется)"
   ]
  },
  {
   "cell_type": "code",
   "execution_count": 11,
   "id": "fa545b23",
   "metadata": {},
   "outputs": [
    {
     "name": "stdout",
     "output_type": "stream",
     "text": [
      "[[4 1 1]\n",
      " [3 0 1]\n",
      " [4 3 4]\n",
      " [4 0 3]\n",
      " [2 2 3]\n",
      " [3 2 2]\n",
      " [0 2 4]\n",
      " [1 0 4]\n",
      " [1 2 3]\n",
      " [0 3 3]]\n",
      "[[4 1 1]\n",
      " [3 0 1]\n",
      " [4 3 4]\n",
      " [4 0 3]\n",
      " [2 2 3]\n",
      " [3 2 2]\n",
      " [0 2 4]\n",
      " [1 0 4]\n",
      " [1 2 3]\n",
      " [0 3 3]]\n"
     ]
    }
   ],
   "source": [
    "# \n",
    "rng = np.random.default_rng()\n",
    "Z = rng.integers(0,5,(10,3))\n",
    "E = np.logical_and.reduce(Z[:,1:] == Z[:,:-1], axis=1)\n",
    "U = Z[~E]\n",
    "print(Z)\n",
    "print(U)"
   ]
  },
  {
   "cell_type": "markdown",
   "id": "28f0d116",
   "metadata": {},
   "source": [
    "**6.** Дан двумерный массив. Удалить те строки, которые повторяются"
   ]
  },
  {
   "cell_type": "code",
   "execution_count": 12,
   "id": "83d2c0b7",
   "metadata": {},
   "outputs": [
    {
     "name": "stdout",
     "output_type": "stream",
     "text": [
      "[[1 0 1]\n",
      " [1 1 0]\n",
      " [1 0 0]\n",
      " [0 0 1]\n",
      " [0 1 0]\n",
      " [0 0 0]]\n",
      "[[0 0 0]\n",
      " [0 0 1]\n",
      " [0 1 0]\n",
      " [1 0 0]\n",
      " [1 0 1]\n",
      " [1 1 0]]\n"
     ]
    }
   ],
   "source": [
    "# \n",
    "rng = np.random.default_rng()\n",
    "Z = rng.integers(0, 2, (6,3))\n",
    "print(Z)\n",
    "T = np.ascontiguousarray(Z).view(np.dtype((np.void, Z.dtype.itemsize * Z.shape[1])))\n",
    "_, idx = np.unique(T, return_index=True)\n",
    "uZ = Z[idx]\n",
    "print(uZ)"
   ]
  },
  {
   "cell_type": "markdown",
   "id": "6daa9e37",
   "metadata": {},
   "source": [
    "______\n",
    "______"
   ]
  },
  {
   "cell_type": "markdown",
   "id": "cfbfcaff",
   "metadata": {},
   "source": [
    "Для каждой из следующих задач (1-5) нужно привести 2 реализации – одна без использования numpy (cчитайте, что там, где на входе или выходе должны быть numpy array, будут просто списки), а вторая полностью векторизованная с использованием numpy (без использования питоновских циклов/map/list comprehension).\n",
    "\n",
    "\n",
    "__Замечание 1.__ Можно считать, что все указанные объекты непустые (к примеру, в __задаче 1__ на диагонали матрицы есть ненулевые элементы).\n",
    "\n",
    "__Замечание 2.__ Для большинства задач решение занимает не больше 1-2 строк."
   ]
  },
  {
   "cell_type": "markdown",
   "id": "673cac7f",
   "metadata": {},
   "source": [
    "___"
   ]
  },
  {
   "cell_type": "markdown",
   "id": "ca6f585e",
   "metadata": {},
   "source": [
    "* __Задача 1__: Подсчитать произведение ненулевых элементов на диагонали прямоугольной матрицы.  \n",
    " Например, для X = np.array([[1, 0, 1], [2, 0, 2], [3, 0, 3], [4, 4, 4]]) ответ 3."
   ]
  },
  {
   "cell_type": "code",
   "execution_count": 14,
   "id": "065862fc",
   "metadata": {},
   "outputs": [
    {
     "name": "stdout",
     "output_type": "stream",
     "text": [
      "[[1 3 0 3]\n",
      " [0 3 0 2]\n",
      " [4 2 6 7]]\n",
      "[1 3 6]\n",
      "18\n",
      "\n",
      "[9, 6, 6, 5]\n",
      "[6, 2, 10, 10]\n",
      "[1, 0, 0, 6]\n",
      "[9, 2]\n",
      "18\n"
     ]
    }
   ],
   "source": [
    "# numpy\n",
    "rng = np.random.default_rng()\n",
    "Z = rng.integers(0, 10, (3, 4))\n",
    "product = np.prod(np.diagonal(Z)[np.diagonal(Z) != 0])\n",
    "print(Z)\n",
    "print(np.diagonal(Z))\n",
    "print(product)\n",
    "print()\n",
    "\n",
    "# python\n",
    "import random\n",
    "\n",
    "matrix = [[random.randint(0, 10) for _ in range(4)] for _ in range(3)]\n",
    "for row in matrix:\n",
    "    print(row)\n",
    "\n",
    "diagonal = []\n",
    "product = 1\n",
    "for i in range(min(len(matrix), len(matrix[0]))):\n",
    "    if matrix[i][i] != 0:\n",
    "        diagonal.append(matrix[i][i])\n",
    "        product *= matrix[i][i]\n",
    "print(diagonal)\n",
    "if len(diagonal) == 0:\n",
    "    print(\"No non-zero elements\")\n",
    "else:\n",
    "    print(product)"
   ]
  },
  {
   "cell_type": "markdown",
   "id": "9fc51d41",
   "metadata": {},
   "source": [
    "* __Задача 2__: Даны два вектора x и y. Проверить, задают ли они одно и то же мультимножество.  \n",
    "  Например, для x = np.array([1, 2, 2, 4]), y = np.array([4, 2, 1, 2]) ответ True."
   ]
  },
  {
   "cell_type": "code",
   "execution_count": 15,
   "id": "a809e02f",
   "metadata": {},
   "outputs": [
    {
     "name": "stdout",
     "output_type": "stream",
     "text": [
      "[2 2 2 1]\n",
      "[2 1 2 1]\n",
      "False\n",
      "\n",
      "[1, 1, 1, 3]\n",
      "[2, 3, 1, 2]\n",
      "False\n"
     ]
    }
   ],
   "source": [
    "# numpy\n",
    "rng = np.random.default_rng()\n",
    "x = rng.integers(1, 3, size=4)\n",
    "print(x)\n",
    "y = rng.integers(1, 3, size=4)\n",
    "print(y)\n",
    "\n",
    "print(np.array_equal(np.sort(x), np.sort(y)))\n",
    "print()\n",
    "\n",
    "# python\n",
    "x = [random.randint(1, 3) for _ in range(4)]\n",
    "print(x)\n",
    "y = [random.randint(1, 3) for _ in range(4)]\n",
    "print(y)\n",
    "\n",
    "print(sorted(x) == sorted(y))"
   ]
  },
  {
   "cell_type": "markdown",
   "id": "b9c185c7",
   "metadata": {},
   "source": [
    "* __Задача 3__: Найти максимальный элемент в векторе x среди элементов, перед которыми стоит ноль. \n",
    " Например, для x = np.array([6, 2, 0, 3, 0, 0, 5, 7, 0]) ответ 5."
   ]
  },
  {
   "cell_type": "code",
   "execution_count": 16,
   "id": "b57df008",
   "metadata": {},
   "outputs": [
    {
     "name": "stdout",
     "output_type": "stream",
     "text": [
      "9\n",
      "\n",
      "[10, 4, 9, 6, 3, 3, 8, 8, 8, 5]\n",
      "No elements preceded by zero\n"
     ]
    }
   ],
   "source": [
    "# numpy\n",
    "rng = np.random.default_rng()\n",
    "x = rng.integers(0, 10, size=10)\n",
    "elements_preceded_by_zero = x[np.where(x[:-1] == 0)[0] + 1]\n",
    "if elements_preceded_by_zero.size > 0:\n",
    "    max_element = np.max(elements_preceded_by_zero)\n",
    "else:\n",
    "    max_element = None  \n",
    "print(max_element)\n",
    "print()\n",
    "\n",
    "# python\n",
    "x = [random.randint(0, 10) for _ in range(10)]\n",
    "print(x)\n",
    "max_element = min(x)\n",
    "count = 0\n",
    "for i in range(len(x)-1):\n",
    "    if (x[i] == 0) and (x[i+1] > max_element):\n",
    "        max_element =  x[i+1]\n",
    "        count += 1\n",
    "if count == 0:\n",
    "    print(\"No elements preceded by zero\")\n",
    "else:\n",
    "    print(max_element)"
   ]
  },
  {
   "cell_type": "markdown",
   "id": "480be4ce",
   "metadata": {},
   "source": [
    "* __Задача 4__: Реализовать кодирование длин серий (Run-length encoding). Для некоторого вектора x необходимо вернуть кортеж из двух векторов одинаковой длины. Первый содержит числа, а второй - сколько раз их нужно повторить.  \n",
    " Например, для x = np.array([2, 2, 2, 3, 3, 3, 5]) ответ (np.array([2, 3, 5]), np.array([3, 3, 1]))."
   ]
  },
  {
   "cell_type": "code",
   "execution_count": 17,
   "id": "3c592124",
   "metadata": {},
   "outputs": [
    {
     "name": "stdout",
     "output_type": "stream",
     "text": [
      "(array([2, 3, 5]), array([3, 3, 1]))\n",
      "\n",
      "([2, 3, 5], [3, 3, 1])\n"
     ]
    }
   ],
   "source": [
    "# numpy\n",
    "x = np.array([2,2,2,3,3,3,5])\n",
    "tuple_of_vectors = (np.unique_counts(x).values, np.unique_counts(x).counts)\n",
    "print(tuple_of_vectors)\n",
    "print()\n",
    "\n",
    "# python\n",
    "x = [2,2,2,3,3,3,5]\n",
    "dict = {}\n",
    "for i in x:\n",
    "    if i in dict:\n",
    "        dict[i] += 1\n",
    "    else:\n",
    "        dict[i] = 1\n",
    "\n",
    "print((list(dict.keys()), list(dict.values())))"
   ]
  },
  {
   "cell_type": "markdown",
   "id": "077532ec",
   "metadata": {},
   "source": [
    "* __Задача 5__: Даны две выборки объектов - X и Y. Вычислить матрицу евклидовых расстояний между объектами. Сравните с функцией scipy.spatial.distance.cdist по скорости работы."
   ]
  },
  {
   "cell_type": "code",
   "execution_count": 19,
   "id": "1e807797",
   "metadata": {},
   "outputs": [
    {
     "name": "stdout",
     "output_type": "stream",
     "text": [
      "Distance Matrix (numpy):\n",
      "[[ 2.23606798  1.41421356  2.23606798]\n",
      " [ 7.07106781  5.38516481  3.74165739]\n",
      " [12.20655562 10.48808848  8.77496439]]\n",
      "\n",
      "np.linalg.norm: Time taken for 100000 runs: 0.6121405999874696 seconds\n",
      "scipy.spatial.distance.euclidean: Time taken for 100000 runs: 3.949999400007073 seconds\n",
      "\n",
      "Distance Matrix (python):\n",
      "[2.23606797749979, 1.4142135623730951, 2.23606797749979]\n",
      "[7.0710678118654755, 5.385164807134504, 3.7416573867739413]\n",
      "[12.206555615733702, 10.488088481701515, 8.774964387392123]\n",
      "just.python: Time taken for 100000 runs: 0.688436600001296 seconds\n"
     ]
    }
   ],
   "source": [
    "# numpy\n",
    "from scipy.spatial import distance\n",
    "import timeit\n",
    "\n",
    "X = np.array([[1, 2, 3], [4, 5, 6], [7, 8, 9]])\n",
    "Y = np.array([[1, 1, 1], [2, 2, 2], [3, 3, 3]])\n",
    "\n",
    "distance_matrix = np.linalg.norm(X[:, np.newaxis] - Y, axis=2)\n",
    "print(\"Distance Matrix (numpy):\")\n",
    "print(distance_matrix)\n",
    "print()\n",
    "\n",
    "# Compare with scipy\n",
    "\n",
    "def measure_np():\n",
    "    distance_matrix = np.linalg.norm(X[:, np.newaxis] - Y, axis=2)\n",
    "    return distance_matrix\n",
    "\n",
    "def measure_scipy():\n",
    "    distance_matrix_scipy = np.zeros((len(X), len(Y)))\n",
    "    for i in range(len(X)):\n",
    "        for j in range(len(Y)):\n",
    "            distance_matrix_scipy[i, j] = distance.euclidean(X[i], Y[j])\n",
    "    \n",
    "    return distance_matrix_scipy\n",
    "\n",
    "# Measure time for np.linalg.norm\n",
    "time_np = timeit.timeit(measure_np, number=100000)\n",
    "print(f\"np.linalg.norm: Time taken for 100000 runs: {time_np} seconds\")\n",
    "\n",
    "# Measure time for scipy.spatial.distance.euclidean\n",
    "time_scipy = timeit.timeit(measure_scipy, number=100000)\n",
    "print(f\"scipy.spatial.distance.euclidean: Time taken for 100000 runs: {time_scipy} seconds\")\n",
    "print()\n",
    "# python\n",
    "import math\n",
    "\n",
    "X = [[1, 2, 3], [4, 5, 6], [7, 8, 9]]\n",
    "Y = [[1, 1, 1], [2, 2, 2], [3, 3, 3]]\n",
    "\n",
    "def euclidean_distance(point1, point2):\n",
    "    return math.sqrt(sum((p1 - p2) ** 2 for p1, p2 in zip(point1, point2)))\n",
    "\n",
    "def measure_py():\n",
    "    distance_matrix_py = [[0 for _ in range(len(Y))] for _ in range(len(X))]\n",
    "    for i in range(len(X)):\n",
    "        for j in range(len(Y)):\n",
    "            distance_matrix_py[i][j] = euclidean_distance(X[i], Y[j])\n",
    "    \n",
    "    return distance_matrix_py\n",
    "\n",
    "distance_matrix_py = measure_py()\n",
    "print(\"Distance Matrix (python):\")\n",
    "for row in distance_matrix_py:\n",
    "    print(row)\n",
    "\n",
    "# Measure time for python\n",
    "time_py = timeit.timeit(measure_py, number=100000)\n",
    "print(f\"just.python: Time taken for 100000 runs: {time_py} seconds\")\n",
    "\n",
    "# Numpy значительно лучше по скорости работы по сравнению с scipy (быстрее примерно в 6.5 раз)\n",
    "# На обычном питоне скорость только немного ниже numpy (примерно в 1.2 раза)"
   ]
  },
  {
   "cell_type": "markdown",
   "id": "973e8064",
   "metadata": {},
   "source": [
    "_______\n",
    "________"
   ]
  },
  {
   "cell_type": "markdown",
   "id": "1104acb7",
   "metadata": {},
   "source": [
    "* #### __Задача 6__: CrunchieMunchies __*__\n",
    "\n",
    "Вы работаете в отделе маркетинга пищевой компании MyCrunch, которая разрабатывает новый вид вкусных, полезных злаков под названием **CrunchieMunchies**.\n",
    "\n",
    "Вы хотите продемонстрировать потребителям, насколько полезны ваши хлопья по сравнению с другими ведущими брендами, поэтому вы собрали данные о питании нескольких разных конкурентов.\n",
    "\n",
    "Ваша задача - использовать вычисления Numpy для анализа этих данных и доказать, что ваши **СrunchieMunchies** - самый здоровый выбор для потребителей.\n"
   ]
  },
  {
   "cell_type": "code",
   "execution_count": 20,
   "id": "10a77f8d",
   "metadata": {},
   "outputs": [],
   "source": [
    "import numpy as np"
   ]
  },
  {
   "cell_type": "markdown",
   "id": "ab87cb03",
   "metadata": {},
   "source": [
    "1. Просмотрите файл cereal.csv. Этот файл содержит количества калорий для различных марок хлопьев. Загрузите данные из файла и сохраните их как calorie_stats."
   ]
  },
  {
   "cell_type": "code",
   "execution_count": 21,
   "id": "9681ebf2",
   "metadata": {},
   "outputs": [
    {
     "data": {
      "text/plain": [
       "array([ 70., 120.,  70.,  50., 110., 110., 110., 130.,  90.,  90., 120.,\n",
       "       110., 120., 110., 110., 110., 100., 110., 110., 110., 100., 110.,\n",
       "       100., 100., 110., 110., 100., 120., 120., 110., 100., 110., 100.,\n",
       "       110., 120., 120., 110., 110., 110., 140., 110., 100., 110., 100.,\n",
       "       150., 150., 160., 100., 120., 140.,  90., 130., 120., 100.,  50.,\n",
       "        50., 100., 100., 120., 100.,  90., 110., 110.,  80.,  90.,  90.,\n",
       "       110., 110.,  90., 110., 140., 100., 110., 110., 100., 100., 110.])"
      ]
     },
     "execution_count": 21,
     "metadata": {},
     "output_type": "execute_result"
    }
   ],
   "source": [
    "calorie_stats = np.loadtxt(\"./data/cereal.csv\", delimiter=\",\")\n",
    "calorie_stats"
   ]
  },
  {
   "cell_type": "markdown",
   "id": "139cfbd8",
   "metadata": {},
   "source": [
    "2. В одной порции CrunchieMunchies содержится 60 калорий. Насколько выше среднее количество калорий у ваших конкурентов?\n",
    "\n",
    "Сохраните ответ в переменной average_calories и распечатайте переменную в терминале"
   ]
  },
  {
   "cell_type": "code",
   "execution_count": 22,
   "id": "7036d240",
   "metadata": {},
   "outputs": [
    {
     "name": "stdout",
     "output_type": "stream",
     "text": [
      "106.88311688311688\n"
     ]
    }
   ],
   "source": [
    "# 106.88\n",
    "average_calories = np.mean(calorie_stats)\n",
    "print(average_calories)"
   ]
  },
  {
   "cell_type": "markdown",
   "id": "b2ddb4cd",
   "metadata": {},
   "source": [
    "3. Корректно ли среднее количество калорий отражает распределение набора данных? Давайте отсортируем данные и посмотрим.\n",
    "\n",
    "Отсортируйте данные и сохраните результат в переменной calorie_stats_sorted. Распечатайте отсортированную информацию"
   ]
  },
  {
   "cell_type": "code",
   "execution_count": 23,
   "id": "46eeb4ed",
   "metadata": {},
   "outputs": [
    {
     "name": "stdout",
     "output_type": "stream",
     "text": [
      "[ 50.  50.  50.  70.  70.  80.  90.  90.  90.  90.  90.  90.  90. 100.\n",
      " 100. 100. 100. 100. 100. 100. 100. 100. 100. 100. 100. 100. 100. 100.\n",
      " 100. 100. 110. 110. 110. 110. 110. 110. 110. 110. 110. 110. 110. 110.\n",
      " 110. 110. 110. 110. 110. 110. 110. 110. 110. 110. 110. 110. 110. 110.\n",
      " 110. 110. 110. 120. 120. 120. 120. 120. 120. 120. 120. 120. 120. 130.\n",
      " 130. 140. 140. 140. 150. 150. 160.]\n"
     ]
    }
   ],
   "source": [
    "# \n",
    "calorie_stats_sorted = np.sort(calorie_stats)\n",
    "print(calorie_stats_sorted)"
   ]
  },
  {
   "cell_type": "markdown",
   "id": "4dc74116",
   "metadata": {},
   "source": [
    "4. Похоже, что большинство значений выше среднего. Давайте посмотрим, является ли медиана наиболее корректным показателем набора данных.\n",
    "\n",
    "Вычислите медиану набора данных и сохраните свой ответ в median_calories. Выведите медиану, чтобы вы могли видеть, как она сравнивается со средним значением."
   ]
  },
  {
   "cell_type": "code",
   "execution_count": 24,
   "id": "b56627c3",
   "metadata": {},
   "outputs": [
    {
     "name": "stdout",
     "output_type": "stream",
     "text": [
      "110.0\n"
     ]
    }
   ],
   "source": [
    "# 110.0\n",
    "median_calories = np.median(calorie_stats)\n",
    "print(median_calories)"
   ]
  },
  {
   "cell_type": "markdown",
   "id": "a63ab72f",
   "metadata": {},
   "source": [
    "5. В то время как медиана показывает, что по крайней мере половина наших значений составляет более 100 калорий, было бы более впечатляюще показать, что значительная часть конкурентов имеет более высокое количество калорий, чем CrunchieMunchies.\n",
    "\n",
    "Рассчитайте различные процентили и распечатайте их, пока не найдете наименьший процентиль, превышающий 60 калорий. Сохраните это значение в переменной nth_percentile."
   ]
  },
  {
   "cell_type": "code",
   "execution_count": 25,
   "id": "fe80ce03",
   "metadata": {},
   "outputs": [
    {
     "name": "stdout",
     "output_type": "stream",
     "text": [
      "50th percentile:  110.0\n",
      "25th percentile:  100.0\n",
      "10th percentile:  90.0\n",
      "5th percentile:  70.0\n",
      "4th percentile:  70.0\n",
      "3th percentile:  55.599999999999994\n"
     ]
    }
   ],
   "source": [
    "# 4th_percentile = 70 (3d = 55.6)\n",
    "print(\"50th percentile: \",\n",
    "      np.percentile(calorie_stats, 50))\n",
    "print(\"25th percentile: \",\n",
    "      np.percentile(calorie_stats, 25))\n",
    "print(\"10th percentile: \",\n",
    "      np.percentile(calorie_stats, 10))\n",
    "print(\"5th percentile: \",\n",
    "      np.percentile(calorie_stats, 5))\n",
    "print(\"4th percentile: \",\n",
    "      np.percentile(calorie_stats, 4))\n",
    "print(\"3th percentile: \",\n",
    "      np.percentile(calorie_stats, 3))\n",
    "\n",
    "nth_percentile = np.percentile(calorie_stats, 4)"
   ]
  },
  {
   "cell_type": "markdown",
   "id": "a2a3c5aa",
   "metadata": {},
   "source": [
    "6. Хотя процентиль показывает нам, что у большинства конкурентов количество калорий намного выше, это неудобная концепция для использования в маркетинговых материалах.\n",
    "\n",
    "Вместо этого давайте подсчитаем процент хлопьев, в которых содержится более 60 калорий на порцию. Сохраните свой ответ в переменной more_calories и распечатайте его"
   ]
  },
  {
   "cell_type": "code",
   "execution_count": 26,
   "id": "ade0f6ea",
   "metadata": {},
   "outputs": [
    {
     "name": "stdout",
     "output_type": "stream",
     "text": [
      "96.1038961038961\n"
     ]
    }
   ],
   "source": [
    "# 96.1\n",
    "more_calories = (np.sum(calorie_stats > 60) / len(calorie_stats)) * 100\n",
    "print(more_calories)"
   ]
  },
  {
   "cell_type": "markdown",
   "id": "1735d65b",
   "metadata": {},
   "source": [
    "7. Это действительно высокий процент. Это будет очень полезно, когда мы будем продвигать CrunchieMunchies. Но один вопрос заключается в том, насколько велики различия в наборе данных? Можем ли мы сделать обобщение, что в большинстве злаков содержится около 100 калорий или разброс еще больше?\n",
    "\n",
    "Рассчитайте величину отклонения, найдя стандартное отклонение, Сохраните свой ответ в calorie_std и распечатайте на терминале. Как мы можем включить эту ценность в наш анализ?"
   ]
  },
  {
   "cell_type": "code",
   "execution_count": 27,
   "id": "85c8df1f",
   "metadata": {},
   "outputs": [
    {
     "name": "stdout",
     "output_type": "stream",
     "text": [
      "19.35718533390827\n",
      "Percentage of cereals within one standard deviation of the mean: 81.82%\n"
     ]
    }
   ],
   "source": [
    "# 19.36\n",
    "calorie_std = np.std(calorie_stats)\n",
    "print(calorie_std)\n",
    "\n",
    "# Percentage of cereals within one standard deviation of the mean\n",
    "within_one_std = np.sum((calorie_stats >= (average_calories - calorie_std)) & (calorie_stats <= (average_calories + calorie_std)))\n",
    "percentage_within_one_std = (within_one_std / len(calorie_stats)) * 100\n",
    "\n",
    "print(f\"Percentage of cereals within one standard deviation of the mean: {percentage_within_one_std:.2f}%\")"
   ]
  },
  {
   "cell_type": "markdown",
   "id": "037455c5",
   "metadata": {},
   "source": [
    "8. Напишите короткий абзац, в котором кратко изложите свои выводы и то, как, по вашему мнению, эти данные могут быть использованы в интересах Mycrunch при маркетинге CrunchieMunchies."
   ]
  },
  {
   "cell_type": "code",
   "execution_count": 167,
   "id": "c260fee9",
   "metadata": {},
   "outputs": [],
   "source": [
    "# \n",
    "Стандартное отклонение (19.36) можно считать умеренным для данного среднего значения (106.9). \n",
    "Поскольку процент хлопьев в пределах одного стандартного отклонения довольно высокий (percentage_within_one_std, 81.82%), можно сделать вывод, что да, большинство хлопьев содержит около 100 калорий.\n",
    "\n",
    "Данное обобщение можно использовать в интересах компании. \n",
    "Также можно использовать среднее (как более понятное потребителям по сравнению с медианой) и процент хлопьев с содержанием калорий более 60 (96.1%).\n",
    "\n",
    "Все эти показатели однозначно говорят о том, что по низкой калорийности хлопья компании превосходят большинство конкурентов."
   ]
  }
 ],
 "metadata": {
  "kernelspec": {
   "display_name": "Python 3 (ipykernel)",
   "language": "python",
   "name": "python3"
  },
  "language_info": {
   "codemirror_mode": {
    "name": "ipython",
    "version": 3
   },
   "file_extension": ".py",
   "mimetype": "text/x-python",
   "name": "python",
   "nbconvert_exporter": "python",
   "pygments_lexer": "ipython3",
   "version": "3.12.5"
  }
 },
 "nbformat": 4,
 "nbformat_minor": 5
}
